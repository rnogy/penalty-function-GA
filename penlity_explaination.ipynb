{
 "cells": [
  {
   "cell_type": "markdown",
   "metadata": {},
   "source": [
    "# Problem"
   ]
  },
  {
   "cell_type": "markdown",
   "metadata": {},
   "source": [
    "I want to find 45 numbers with in range of [17, 99] that makes an average of 59.32\n",
    "\\begin{align}\n",
    "\\frac{1}{45} \\sum_{i=0}^{44}x_i = 59.32 \\\\\n",
    "17 \\leq x_i \\leq 99\n",
    "\\end{align}\n",
    "Find any combination of x_i that will make an average of 59.32"
   ]
  },
  {
   "cell_type": "markdown",
   "metadata": {},
   "source": [
    "For this problem, I want to solve it with a genetic algorithm. Instead of using API ```gene_space = range(14, 99)``` nor initializing with ```init_range_low = 14```, ```init_range_high = 99```, I wanted to try to force the solutions into the range by implementing a penalty function. "
   ]
  },
  {
   "cell_type": "markdown",
   "metadata": {},
   "source": [
    "penlity function:\n",
    "\\begin{align}\n",
    "a \\neq b \\\\\n",
    "f(x) = \n",
    "\\begin{cases}\n",
    "    x & a \\leq x \\leq b \\\\\n",
    "    - 10^5 + x^3 & otherwise  \\\\\n",
    "\\end{cases}\n",
    "\\end{align}"
   ]
  },
  {
   "cell_type": "markdown",
   "metadata": {},
   "source": [
    "This penlity function works, but I am unable to exmplain why the negative sign matters."
   ]
  },
  {
   "cell_type": "code",
   "execution_count": 1,
   "metadata": {},
   "outputs": [],
   "source": [
    "import pygad\n",
    "import numpy\n",
    "import matplotlib.pyplot as plt"
   ]
  },
  {
   "cell_type": "code",
   "execution_count": 2,
   "metadata": {},
   "outputs": [],
   "source": [
    "desired_output = 59.32"
   ]
  },
  {
   "cell_type": "code",
   "execution_count": 3,
   "metadata": {},
   "outputs": [],
   "source": [
    "#penlity function\n",
    "#the more negative the number, the better the result. Up to -1E5, result of more negativity is negliable. \n",
    "def lgt(x, a=17, b=99):\n",
    "    greaterThan = numpy.where(x < a, 0, 1)\n",
    "    lessThan = numpy.where(x <= b, 1, 0)\n",
    "    return numpy.where(x * greaterThan * lessThan == 0, -1E5+(x**3), x)"
   ]
  },
  {
   "cell_type": "code",
   "execution_count": 38,
   "metadata": {},
   "outputs": [],
   "source": [
    "#GA wants to maximunize fitness. \n",
    "#The fitness function compares the desired to predict. \n",
    "def fitness_func(solution, solution_idx):\n",
    "    output = numpy.average(lgt(solution))\n",
    "    fitness = 1.0 / numpy.abs(output - desired_output)\n",
    "    return fitness"
   ]
  },
  {
   "cell_type": "markdown",
   "metadata": {},
   "source": [
    "Hyper params"
   ]
  },
  {
   "cell_type": "code",
   "execution_count": 5,
   "metadata": {},
   "outputs": [],
   "source": [
    "fitness_function = fitness_func\n",
    "\n",
    "#number epochs.\n",
    "num_generations = 2000\n",
    "\n",
    "#number of genes in chromsome. We want 45 because we want a solution to be an array of 45\n",
    "num_genes = 45\n",
    "\n",
    "#number of solution within pupulation\n",
    "sol_per_pop = 41\n",
    "\n",
    "#Initial range\n",
    "#Set to [-50 to 50] to validate the effectiness of penlity function\n",
    "#If set to [17, 99], nothing much the GA need to do and will converage in a few cycles\n",
    "init_range_low = -50\n",
    "init_range_high = 50\n",
    "\n",
    "#parent selection method = Stochastic Universal Selection - SUS. \n",
    "#This selection method \"exhibits no bias and minimal spread\"\n",
    "parent_selection_type = \"sus\"\n",
    "keep_parents = 3\n",
    "\n",
    "#Set to high mutation rate to accerate convergion. \n",
    "crossover_type = \"single_point\"\n",
    "mutation_type = \"random\"\n",
    "mutation_percent_genes = 60\n",
    "num_parents_mating = 25"
   ]
  },
  {
   "cell_type": "code",
   "execution_count": 6,
   "metadata": {},
   "outputs": [],
   "source": [
    "ga_instance = pygad.GA(num_generations=num_generations,\n",
    "                       num_parents_mating=num_parents_mating,\n",
    "                       fitness_func=fitness_function,\n",
    "                       sol_per_pop=sol_per_pop,\n",
    "                       num_genes=num_genes,\n",
    "                       init_range_low=init_range_low,\n",
    "                       init_range_high=init_range_high,\n",
    "                       parent_selection_type=parent_selection_type,\n",
    "                       keep_parents=keep_parents,\n",
    "                       crossover_type=crossover_type,\n",
    "                       mutation_type=mutation_type,\n",
    "                       mutation_percent_genes=mutation_percent_genes)"
   ]
  },
  {
   "cell_type": "code",
   "execution_count": 7,
   "metadata": {},
   "outputs": [],
   "source": [
    "ga_instance.run()"
   ]
  },
  {
   "cell_type": "markdown",
   "metadata": {},
   "source": [
    "It shows the penlity function is working. All elements are within [17, 99], and the predicted is very close to desired."
   ]
  },
  {
   "cell_type": "code",
   "execution_count": 8,
   "metadata": {},
   "outputs": [
    {
     "name": "stdout",
     "output_type": "stream",
     "text": [
      "Parameters of the best solution : [85.41931173 66.51627906 43.08436588 71.10861014 72.71008143 59.52646819\n",
      " 53.14073032 51.29883416 77.42584    45.7993689  48.58146195 81.59244905\n",
      " 48.86804363 64.38562125 53.06531501 41.27838483 55.99744961 73.63165326\n",
      " 54.2806442  43.07440527 47.09135739 51.25711701 75.44842554 52.7833863\n",
      " 42.75600667 46.07909066 42.33329718 54.82126266 46.4340347  79.81942868\n",
      " 76.31128252 77.59217825 64.86511865 57.1550478  52.15118582 64.84478735\n",
      " 36.78742282 72.25411071 49.65198908 62.70254746 41.34243786 60.8400411\n",
      " 76.77709565 81.89293685 64.62313905]\n",
      "Predicted output based on the best solution : 59.32000101312137\n"
     ]
    }
   ],
   "source": [
    "solution, solution_fitness, solution_idx = ga_instance.best_solution()\n",
    "print(\"Parameters of the best solution : {solution}\".format(solution=solution))\n",
    "prediction = numpy.average(solution)\n",
    "print(\"Predicted output based on the best solution : {prediction}\".format(prediction=prediction))"
   ]
  },
  {
   "cell_type": "code",
   "execution_count": 9,
   "metadata": {},
   "outputs": [
    {
     "name": "stdout",
     "output_type": "stream",
     "text": [
      "min value of array : 36.7874228182558\n",
      "max value of array : 85.41931173475018\n"
     ]
    }
   ],
   "source": [
    "print(\"min value of array : {min_num}\".format(min_num=min(solution)))\n",
    "print(\"max value of array : {max_num}\".format(max_num=max(solution)))"
   ]
  },
  {
   "cell_type": "code",
   "execution_count": 10,
   "metadata": {},
   "outputs": [
    {
     "data": {
      "image/png": "[encoded data removed]",
      "text/plain": [
       "<Figure size 432x288 with 1 Axes>"
      ]
     },
     "metadata": {
      "needs_background": "light"
     },
     "output_type": "display_data"
    },
    {
     "data": {
      "image/png": "[encoded data removed]",
      "text/plain": [
       "<Figure size 432x288 with 1 Axes>"
      ]
     },
     "execution_count": 10,
     "metadata": {},
     "output_type": "execute_result"
    }
   ],
   "source": [
    "ga_instance.plot_fitness()"
   ]
  },
  {
   "cell_type": "code",
   "execution_count": 11,
   "metadata": {},
   "outputs": [
    {
     "data": {
      "text/plain": [
       "<BarContainer object of 10 artists>"
      ]
     },
     "execution_count": 11,
     "metadata": {},
     "output_type": "execute_result"
    },
    {
     "data": {
      "image/png": "[encoded data removed]",
      "text/plain": [
       "<Figure size 432x288 with 1 Axes>"
      ]
     },
     "metadata": {
      "needs_background": "light"
     },
     "output_type": "display_data"
    }
   ],
   "source": [
    "#Solution distrubution\n",
    "a = numpy.array([])\n",
    "b = numpy.array([])\n",
    "i = int(min(solution))\n",
    "j = i+5\n",
    "while i <= max(solution):\n",
    "    a = numpy.append(a, numpy.count_nonzero((solution >= i) & (solution < j)))\n",
    "    b = numpy.append(b, j)\n",
    "    i = j\n",
    "    j += 5\n",
    "plt.bar(b,a, 5)"
   ]
  },
  {
   "cell_type": "markdown",
   "metadata": {},
   "source": [
    "This penlity function also works\n",
    "\\begin{align}\n",
    "a \\neq b \\\\\n",
    "f(x) = \n",
    "\\begin{cases}\n",
    "    x & a \\leq x \\leq b \\\\\n",
    "    - 10^5+x & otherwise  \\\\\n",
    "\\end{cases}\n",
    "\\end{align}"
   ]
  },
  {
   "cell_type": "code",
   "execution_count": 43,
   "metadata": {},
   "outputs": [],
   "source": [
    "#Without the x^3, the function works as well. Just takes longer to converage ~8000 epochs\n",
    "def lgt(x, a=17, b=99):\n",
    "    greaterThan = numpy.where(x < a, 0, 1)\n",
    "    lessThan = numpy.where(x <= b, 1, 0)\n",
    "    return numpy.where(x * greaterThan * lessThan == 0, -1E5+x, x)"
   ]
  },
  {
   "cell_type": "code",
   "execution_count": 44,
   "metadata": {},
   "outputs": [],
   "source": [
    "def fitness_func(solution, solution_idx):\n",
    "    output = numpy.average(lgt(solution))\n",
    "    fitness = 1.0 / numpy.abs(output - desired_output)\n",
    "    return fitness"
   ]
  },
  {
   "cell_type": "code",
   "execution_count": 45,
   "metadata": {},
   "outputs": [],
   "source": [
    "fitness_function = fitness_func\n",
    "\n",
    "#number epochs -> 10000.\n",
    "num_generations = 10000"
   ]
  },
  {
   "cell_type": "code",
   "execution_count": 46,
   "metadata": {},
   "outputs": [],
   "source": [
    "ga_instance = pygad.GA(num_generations=num_generations,\n",
    "                       num_parents_mating=num_parents_mating,\n",
    "                       fitness_func=fitness_function,\n",
    "                       sol_per_pop=sol_per_pop,\n",
    "                       num_genes=num_genes,\n",
    "                       init_range_low=init_range_low,\n",
    "                       init_range_high=init_range_high,\n",
    "                       parent_selection_type=parent_selection_type,\n",
    "                       keep_parents=keep_parents,\n",
    "                       crossover_type=crossover_type,\n",
    "                       mutation_type=mutation_type,\n",
    "                       mutation_percent_genes=mutation_percent_genes)"
   ]
  },
  {
   "cell_type": "code",
   "execution_count": 47,
   "metadata": {},
   "outputs": [],
   "source": [
    "ga_instance.run()"
   ]
  },
  {
   "cell_type": "code",
   "execution_count": 48,
   "metadata": {},
   "outputs": [
    {
     "name": "stdout",
     "output_type": "stream",
     "text": [
      "Parameters of the best solution : [95.76811321 65.30069194 87.88861496 91.92895174 20.46564445 83.20392527\n",
      " 69.20315418 25.5080521  18.92425167 31.44847374 41.0826384  19.19826984\n",
      " 56.57074469 46.73416347 70.47900294 55.46831335 18.6142971  40.22329456\n",
      " 92.73160166 25.79354493 70.72300977 46.08858421 80.79554568 69.20260143\n",
      " 21.55271276 72.77527659 61.49797475 64.0900125  93.65341286 65.98202966\n",
      " 81.13026227 18.99341935 74.21357064 95.29434744 26.55793534 58.46503543\n",
      " 52.28581499 86.0880235  35.98573735 69.46953347 91.25604668 87.96584144\n",
      " 58.37693836 51.60968864 78.8108995 ]\n",
      "Predicted output based on the best solution : 59.31999997376553\n"
     ]
    }
   ],
   "source": [
    "solution, solution_fitness, solution_idx = ga_instance.best_solution()\n",
    "print(\"Parameters of the best solution : {solution}\".format(solution=solution))\n",
    "prediction = numpy.average(solution)\n",
    "print(\"Predicted output based on the best solution : {prediction}\".format(prediction=prediction))"
   ]
  },
  {
   "cell_type": "code",
   "execution_count": 49,
   "metadata": {},
   "outputs": [
    {
     "name": "stdout",
     "output_type": "stream",
     "text": [
      "min value of array : 18.614297098364432\n",
      "max value of array : 95.76811321167936\n"
     ]
    }
   ],
   "source": [
    "print(\"min value of array : {min_num}\".format(min_num=min(solution)))\n",
    "print(\"max value of array : {max_num}\".format(max_num=max(solution)))"
   ]
  },
  {
   "cell_type": "code",
   "execution_count": 50,
   "metadata": {},
   "outputs": [
    {
     "data": {
      "image/png": "[encoded data removed]",
      "text/plain": [
       "<Figure size 432x288 with 1 Axes>"
      ]
     },
     "metadata": {
      "needs_background": "light"
     },
     "output_type": "display_data"
    },
    {
     "data": {
      "image/png": "[encoded data removed]",
      "text/plain": [
       "<Figure size 432x288 with 1 Axes>"
      ]
     },
     "execution_count": 50,
     "metadata": {},
     "output_type": "execute_result"
    }
   ],
   "source": [
    "ga_instance.plot_fitness()"
   ]
  },
  {
   "cell_type": "code",
   "execution_count": 51,
   "metadata": {},
   "outputs": [
    {
     "data": {
      "text/plain": [
       "<BarContainer object of 16 artists>"
      ]
     },
     "execution_count": 51,
     "metadata": {},
     "output_type": "execute_result"
    },
    {
     "data": {
      "image/png": "[encoded data removed]",
      "text/plain": [
       "<Figure size 432x288 with 1 Axes>"
      ]
     },
     "metadata": {
      "needs_background": "light"
     },
     "output_type": "display_data"
    }
   ],
   "source": [
    "#Solution distrubution\n",
    "a = numpy.array([])\n",
    "b = numpy.array([])\n",
    "i = int(min(solution))\n",
    "j = i+5\n",
    "while i <= max(solution):\n",
    "    a = numpy.append(a, numpy.count_nonzero((solution >= i) & (solution < j)))\n",
    "    b = numpy.append(b, j)\n",
    "    i = j\n",
    "    j += 5\n",
    "plt.bar(b,a, 5)"
   ]
  },
  {
   "cell_type": "markdown",
   "metadata": {},
   "source": [
    "However, if the constant is changed to positve number, the range regulation won't work. Why?"
   ]
  },
  {
   "cell_type": "code",
   "execution_count": 21,
   "metadata": {},
   "outputs": [],
   "source": [
    "# -1E5 -> 1E5\n",
    "def lgt(x, a=17, b=99):\n",
    "    greaterThan = numpy.where(x < a, 0, 1)\n",
    "    lessThan = numpy.where(x <= b, 1, 0)\n",
    "    return numpy.where(x * greaterThan * lessThan == 0, 1E5+x, x)"
   ]
  },
  {
   "cell_type": "code",
   "execution_count": 22,
   "metadata": {},
   "outputs": [],
   "source": [
    "def fitness_func(solution, solution_idx):\n",
    "    output = numpy.average(lgt(solution))\n",
    "    fitness = 1.0 / numpy.abs(output - desired_output)\n",
    "    return fitness"
   ]
  },
  {
   "cell_type": "code",
   "execution_count": 23,
   "metadata": {},
   "outputs": [],
   "source": [
    "fitness_function = fitness_func\n",
    "num_generations = 10000"
   ]
  },
  {
   "cell_type": "code",
   "execution_count": 24,
   "metadata": {},
   "outputs": [],
   "source": [
    "ga_instance = pygad.GA(num_generations=num_generations,\n",
    "                       num_parents_mating=num_parents_mating,\n",
    "                       fitness_func=fitness_function,\n",
    "                       sol_per_pop=sol_per_pop,\n",
    "                       num_genes=num_genes,\n",
    "                       init_range_low=init_range_low,\n",
    "                       init_range_high=init_range_high,\n",
    "                       parent_selection_type=parent_selection_type,\n",
    "                       keep_parents=keep_parents,\n",
    "                       crossover_type=crossover_type,\n",
    "                       mutation_type=mutation_type,\n",
    "                       mutation_percent_genes=mutation_percent_genes)"
   ]
  },
  {
   "cell_type": "code",
   "execution_count": 25,
   "metadata": {},
   "outputs": [],
   "source": [
    "ga_instance.run()"
   ]
  },
  {
   "cell_type": "code",
   "execution_count": 26,
   "metadata": {},
   "outputs": [
    {
     "name": "stdout",
     "output_type": "stream",
     "text": [
      "Parameters of the best solution : [ 17.71377722  17.31299344  17.65591079  17.33169855  17.02969603\n",
      "  19.28740284  18.31314551  17.94636189 -53.76151574  17.26081627\n",
      "  17.13600466 -33.84011644  18.72591586  18.16741919 -93.52622424\n",
      "  19.06251392 -53.60713305 -80.44971866  17.21316588 -67.75766744\n",
      "  17.28328394  17.97291968  21.01078983  18.58933444  18.21278229\n",
      "  17.71336441  19.3185958   18.15640235 -68.17831801  18.47370494\n",
      "  18.66649041  18.95779831  20.85166765 -47.92106588  17.06442898\n",
      " -62.77696097 -78.3906316   17.08322265 -49.75222773  17.96676183\n",
      "  17.24879443  18.96849874  17.10683244  17.84113711  17.52621844]\n",
      "Predicted output based on the best solution : -1.6398162009054051\n"
     ]
    }
   ],
   "source": [
    "solution, solution_fitness, solution_idx = ga_instance.best_solution()\n",
    "print(\"Parameters of the best solution : {solution}\".format(solution=solution))\n",
    "prediction = numpy.average(solution)\n",
    "print(\"Predicted output based on the best solution : {prediction}\".format(prediction=prediction))"
   ]
  },
  {
   "cell_type": "code",
   "execution_count": 27,
   "metadata": {},
   "outputs": [
    {
     "name": "stdout",
     "output_type": "stream",
     "text": [
      "min value of array : -93.52622423940862\n",
      "max value of array : 21.01078982579159\n"
     ]
    }
   ],
   "source": [
    "print(\"min value of array : {min_num}\".format(min_num=min(solution)))\n",
    "print(\"max value of array : {max_num}\".format(max_num=max(solution)))"
   ]
  },
  {
   "cell_type": "code",
   "execution_count": 28,
   "metadata": {},
   "outputs": [
    {
     "data": {
      "image/png": "[encoded data removed]",
      "text/plain": [
       "<Figure size 432x288 with 1 Axes>"
      ]
     },
     "metadata": {
      "needs_background": "light"
     },
     "output_type": "display_data"
    },
    {
     "data": {
      "image/png": "[encoded data removed]",
      "text/plain": [
       "<Figure size 432x288 with 1 Axes>"
      ]
     },
     "execution_count": 28,
     "metadata": {},
     "output_type": "execute_result"
    }
   ],
   "source": [
    "ga_instance.plot_fitness()"
   ]
  },
  {
   "cell_type": "code",
   "execution_count": 29,
   "metadata": {},
   "outputs": [
    {
     "data": {
      "text/plain": [
       "<BarContainer object of 23 artists>"
      ]
     },
     "execution_count": 29,
     "metadata": {},
     "output_type": "execute_result"
    },
    {
     "data": {
      "image/png": "[encoded data removed]",
      "text/plain": [
       "<Figure size 432x288 with 1 Axes>"
      ]
     },
     "metadata": {
      "needs_background": "light"
     },
     "output_type": "display_data"
    }
   ],
   "source": [
    "#Solution distrubution\n",
    "a = numpy.array([])\n",
    "b = numpy.array([])\n",
    "i = int(min(solution))\n",
    "j = i+5\n",
    "while i <= max(solution):\n",
    "    a = numpy.append(a, numpy.count_nonzero((solution >= i) & (solution < j)))\n",
    "    b = numpy.append(b, j)\n",
    "    i = j\n",
    "    j += 5\n",
    "plt.bar(b,a, 5)"
   ]
  },
  {
   "cell_type": "markdown",
   "metadata": {},
   "source": [
    "# Why this works"
   ]
  },
  {
   "cell_type": "markdown",
   "metadata": {},
   "source": [
    "Let's start with the ```x**3``` of the funtion. ```x**3``` retains the sign of x while making the values not in the range easier to elimate. For values moving to the desired direction will receive an explanically better fitness, it'll make the GA converge faster. "
   ]
  },
  {
   "cell_type": "code",
   "execution_count": 30,
   "metadata": {},
   "outputs": [],
   "source": [
    "t = numpy.arange(-15,16)"
   ]
  },
  {
   "cell_type": "code",
   "execution_count": 31,
   "metadata": {},
   "outputs": [
    {
     "data": {
      "text/plain": [
       "<matplotlib.legend.Legend at 0x7faf7ff25df0>"
      ]
     },
     "execution_count": 31,
     "metadata": {},
     "output_type": "execute_result"
    },
    {
     "data": {
      "image/png": "[encoded data removed]",
      "text/plain": [
       "<Figure size 432x288 with 1 Axes>"
      ]
     },
     "metadata": {
      "needs_background": "light"
     },
     "output_type": "display_data"
    }
   ],
   "source": [
    "plt.plot(t, t**3, label='x^3')\n",
    "plt.legend()"
   ]
  },
  {
   "cell_type": "markdown",
   "metadata": {},
   "source": [
    "As we can see, the problem with this method is that it also wants to converge to 0, where the effect is minimized and therefore have no negative impact on fitness. Hence, the more offline have two choices: converge to zero; converge to within the range. To solve that problem, we can make x + some constant. So that even at 0, it still has a negative impact on the fitness"
   ]
  },
  {
   "cell_type": "markdown",
   "metadata": {},
   "source": [
    "Function ```10000-x^3``` works about the same as ```x^3-10000```"
   ]
  },
  {
   "cell_type": "code",
   "execution_count": 32,
   "metadata": {},
   "outputs": [
    {
     "data": {
      "text/plain": [
       "<matplotlib.legend.Legend at 0x7faf80029e50>"
      ]
     },
     "execution_count": 32,
     "metadata": {},
     "output_type": "execute_result"
    },
    {
     "data": {
      "image/png": "[encoded data removed]",
      "text/plain": [
       "<Figure size 432x288 with 1 Axes>"
      ]
     },
     "metadata": {
      "needs_background": "light"
     },
     "output_type": "display_data"
    }
   ],
   "source": [
    "plt.plot(t, t**3, label='x^3')\n",
    "plt.plot(t, 1000-(t**3), label='10000-x^3')\n",
    "plt.plot(t, -1000+(t**3), label='x^3-10000')\n",
    "plt.legend()"
   ]
  },
  {
   "cell_type": "markdown",
   "metadata": {},
   "source": [
    "## x^3 + constant "
   ]
  },
  {
   "cell_type": "code",
   "execution_count": 33,
   "metadata": {},
   "outputs": [],
   "source": [
    "def lgt(x, func, a=17, b=99):\n",
    "    greaterThan = numpy.where(x < a, 0, 1)\n",
    "    lessThan = numpy.where(x <= b, 1, 0)\n",
    "    return numpy.where(x * greaterThan * lessThan == 0, func, x)"
   ]
  },
  {
   "cell_type": "code",
   "execution_count": 34,
   "metadata": {},
   "outputs": [
    {
     "data": {
      "text/plain": [
       "<matplotlib.legend.Legend at 0x7faf800e9250>"
      ]
     },
     "execution_count": 34,
     "metadata": {},
     "output_type": "execute_result"
    },
    {
     "data": {
      "image/png": "[encoded data removed]",
      "text/plain": [
       "<Figure size 432x288 with 1 Axes>"
      ]
     },
     "metadata": {
      "needs_background": "light"
     },
     "output_type": "display_data"
    }
   ],
   "source": [
    "plt.plot(t, t, label='t')\n",
    "plt.plot(t, lgt(t, t**3, 4,10), label='t^3')\n",
    "plt.plot(t, lgt(t, -500+t**3, 4,10), label='-500+t^3')\n",
    "plt.plot(t, lgt(t, 500+t**3, 4,10), label='500+t^3')\n",
    "plt.plot(t, lgt(t, 10000+t**3, 4,10), label='10000+t^3')\n",
    "plt.plot(t, lgt(t, -10000+t**3, 4,10), label='-10000+t^3')\n",
    "plt.legend()"
   ]
  },
  {
   "cell_type": "markdown",
   "metadata": {},
   "source": [
    "As we see, the greater number of the constant helps better distanish the elements that have a negative impact on the fitness. The ```x**3``` also provides a sense of direction to better converge to the range"
   ]
  },
  {
   "cell_type": "markdown",
   "metadata": {},
   "source": [
    "So then, when positive constant doesn't work but negative constant works? The function ```x-10000``` works perfectly fine but just takes longer to converge without ```x**3```."
   ]
  },
  {
   "cell_type": "markdown",
   "metadata": {},
   "source": [
    "## Constant "
   ]
  },
  {
   "cell_type": "code",
   "execution_count": 35,
   "metadata": {},
   "outputs": [
    {
     "data": {
      "text/plain": [
       "<matplotlib.legend.Legend at 0x7faf80203f10>"
      ]
     },
     "execution_count": 35,
     "metadata": {},
     "output_type": "execute_result"
    },
    {
     "data": {
      "image/png": "[encoded data removed]",
      "text/plain": [
       "<Figure size 432x288 with 1 Axes>"
      ]
     },
     "metadata": {
      "needs_background": "light"
     },
     "output_type": "display_data"
    }
   ],
   "source": [
    "plt.plot(t, t, label='t')\n",
    "plt.plot(t, lgt(t, -1E5+t, 4,10), label='-1E5+t')\n",
    "plt.plot(t, lgt(t, 1E5+t, 4,10), label='1E5+t')\n",
    "plt.plot(t, lgt(t, 1E6+t, 4,10), label='1E6+t')\n",
    "plt.plot(t, lgt(t, -1E6+t, 4,10), label='-1E6+t')\n",
    "plt.legend()"
   ]
  },
  {
   "cell_type": "markdown",
   "metadata": {},
   "source": [
    "At some point, -1E5 has the same meaning as -1E6. As long as constant << min(solution), -1E5 is the same as -1E6. This explains why more negativity doesn't help accurates the converage after -1E5."
   ]
  },
  {
   "cell_type": "code",
   "execution_count": 36,
   "metadata": {},
   "outputs": [
    {
     "name": "stdout",
     "output_type": "stream",
     "text": [
      "average of nagative number const: -7741.935483870968\n",
      "average of positive number const: 7741.935483870968\n"
     ]
    }
   ],
   "source": [
    "neg_avg=numpy.average(lgt(t, -10000+t, 4,10))\n",
    "pos_avg=numpy.average(lgt(t, 10000+t, 4,10))\n",
    "print(\"average of nagative number const: {neg_avg}\".format(neg_avg=neg_avg))\n",
    "print(\"average of positive number const: {pos_avg}\".format(pos_avg=pos_avg))"
   ]
  },
  {
   "cell_type": "markdown",
   "metadata": {},
   "source": [
    "The problem isn't the way fitness is calculated either. If fitness is the issue here, change ```fitness = 1.0 / numpy.abs(output - desired_output)``` to ```fitness = 1.0 / numpy.abs(output + desired_output)``` should work for positve numbers. However, it doesn't."
   ]
  },
  {
   "cell_type": "markdown",
   "metadata": {},
   "source": [
    "```-10000+x``` should work the same as ```10000+x```. Yet, the experimental result showed only negative constant works. Why?"
   ]
  }
 ],
 "metadata": {
  "kernelspec": {
   "display_name": "Python 3",
   "language": "python",
   "name": "python3"
  },
  "language_info": {
   "codemirror_mode": {
    "name": "ipython",
    "version": 3
   },
   "file_extension": ".py",
   "mimetype": "text/x-python",
   "name": "python",
   "nbconvert_exporter": "python",
   "pygments_lexer": "ipython3",
   "version": "3.8.3"
  }
 },
 "nbformat": 4,
 "nbformat_minor": 4
}
